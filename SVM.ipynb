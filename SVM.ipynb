{
 "cells": [
  {
   "cell_type": "markdown",
   "metadata": {},
   "source": [
    "(a) Setup: load in data"
   ]
  },
  {
   "cell_type": "code",
   "execution_count": 1,
   "metadata": {},
   "outputs": [],
   "source": [
    "import pandas as pd\n",
    "import numpy as np\n",
    "from collections import Counter\n",
    "train=pd.read_csv(\"20ng-train-all-terms.txt\",header=None,sep='\\t')\n",
    "test=pd.read_csv(\"20ng-test-all-terms.txt\",header=None,sep='\\t')\n",
    "X_train=train.drop(columns=[0])\n",
    "Y_train=train[0]\n",
    "X_test=test.drop(columns=[0])\n",
    "Y_test=test[0]\n",
    "n = len(Y_train) # num of documents"
   ]
  },
  {
   "cell_type": "markdown",
   "metadata": {},
   "source": [
    "(b) Vocabulary Selection"
   ]
  },
  {
   "cell_type": "markdown",
   "metadata": {},
   "source": [
    "b1: count frequency of y"
   ]
  },
  {
   "cell_type": "code",
   "execution_count": 4,
   "metadata": {
    "scrolled": false
   },
   "outputs": [
    {
     "name": "stdout",
     "output_type": "stream",
     "text": [
      "{'alt.atheism': 480, 'comp.graphics': 584, 'comp.os.ms-windows.misc': 572, 'comp.sys.ibm.pc.hardware': 590, 'comp.sys.mac.hardware': 578, 'comp.windows.x': 593, 'misc.forsale': 585, 'rec.autos': 594, 'rec.motorcycles': 598, 'rec.sport.baseball': 597, 'rec.sport.hockey': 600, 'sci.crypt': 595, 'sci.electronics': 591, 'sci.med': 594, 'sci.space': 593, 'soc.religion.christian': 598, 'talk.politics.guns': 545, 'talk.politics.mideast': 564, 'talk.politics.misc': 465, 'talk.religion.misc': 377}\n"
     ]
    }
   ],
   "source": [
    "#print(len(Y_train))\n",
    "y_cnt=Counter()\n",
    "for word in Y_train:\n",
    "    y_cnt[word]+=1\n",
    "y_cnt=dict(y_cnt)\n",
    "print(y_cnt)"
   ]
  },
  {
   "cell_type": "markdown",
   "metadata": {},
   "source": [
    "b2: count frequency of Xi and frequency of (Xi,y)"
   ]
  },
  {
   "cell_type": "code",
   "execution_count": 5,
   "metadata": {},
   "outputs": [],
   "source": [
    "text_dict = {}\n",
    "line_dict = {}\n",
    "word_dict = {}\n",
    "xy_dict = {}\n",
    "labels=list(y_cnt.keys())\n",
    "class_type=np.asarray(labels)\n",
    "class_idx=0\n",
    "with open('20ng-train-all-terms.txt', \"r\") as file:\n",
    "    for line in file:\n",
    "        words = line.split()  \n",
    "        if class_type[class_idx] not in words:\n",
    "                xy_dict[class_idx]=word_dict  # store\n",
    "                class_idx+=1 # next class\n",
    "                word_dict={} #clear\n",
    "        for word in words:\n",
    "            # count of Xi\n",
    "            if not word in labels:\n",
    "                if not word in line_dict:\n",
    "                # do not repeatly read in words of same document\n",
    "                    line_dict[word]=1 \n",
    "                    if not word in text_dict:\n",
    "                        text_dict[word]=1\n",
    "                    else:\n",
    "                        text_dict[word]+=1\n",
    "                # count of (Xi,y)\n",
    "                    if not word in word_dict:\n",
    "                        word_dict[word]=1\n",
    "                    else:\n",
    "                        word_dict[word]+=1\n",
    "                \n",
    "        line_dict={}  # clear    \n",
    "    xy_dict[class_idx]=word_dict\n"
   ]
  },
  {
   "cell_type": "markdown",
   "metadata": {},
   "source": [
    "b3: calculate mutual information I(Xi,Y)"
   ]
  },
  {
   "cell_type": "code",
   "execution_count": 6,
   "metadata": {
    "scrolled": false
   },
   "outputs": [],
   "source": [
    "from math import log\n",
    "I={}\n",
    "for word in text_dict.keys():\n",
    "    I_xy=0\n",
    "    for i in range(20):\n",
    "        if word in xy_dict[i].keys():\n",
    "            # x=1\n",
    "            I_xy+=xy_dict[i][word]/n*log(xy_dict[i][word]*n/(y_cnt[labels[i]]*text_dict[word]))\n",
    "            # x=0\n",
    "            I_xy+=(y_cnt[labels[i]]-xy_dict[i][word])/n*log((y_cnt[labels[i]]-xy_dict[i][word])*n/(y_cnt[labels[i]]*(n-text_dict[word])))\n",
    "        else:\n",
    "            # x=1\n",
    "            I_xy+=1/n*log(1*n/(y_cnt[labels[i]]*text_dict[word]))\n",
    "            # x=0\n",
    "            I_xy+=(y_cnt[labels[i]]-1)/n*log((y_cnt[labels[i]]-1)*n/(y_cnt[labels[i]]*(n-text_dict[word])))\n",
    "\n",
    "    I[word]=I_xy"
   ]
  },
  {
   "cell_type": "markdown",
   "metadata": {},
   "source": [
    "b4: pick top 5000 and print top 10 words"
   ]
  },
  {
   "cell_type": "code",
   "execution_count": 7,
   "metadata": {},
   "outputs": [
    {
     "name": "stdout",
     "output_type": "stream",
     "text": [
      "top 10 words:\n",
      "\n",
      "windows \n",
      "\t 0.10686813807134349\n",
      "god \n",
      "\t 0.10503865027332576\n",
      "sale \n",
      "\t 0.08494523759973754\n",
      "clipper \n",
      "\t 0.08155229980685975\n",
      "dod \n",
      "\t 0.08024679082953239\n",
      "government \n",
      "\t 0.08001049809736512\n",
      "re \n",
      "\t 0.07747101884500286\n",
      "team \n",
      "\t 0.07496542460072984\n",
      "he \n",
      "\t 0.07470989670117738\n",
      "car \n",
      "\t 0.07302192245590709\n"
     ]
    }
   ],
   "source": [
    "best = sorted([(k,v) for (v,k) in I.items()], reverse=True)[:5000]\n",
    "top5000=list()\n",
    "for i in range(5000):\n",
    "    top5000.append(best[i][1])\n",
    "\n",
    "print('top 10 words:\\n')\n",
    "for i in range(10):\n",
    "    print(best[i][1],'\\n\\t',best[i][0])\n"
   ]
  },
  {
   "cell_type": "markdown",
   "metadata": {},
   "source": [
    "(c) Input Representation"
   ]
  },
  {
   "cell_type": "markdown",
   "metadata": {},
   "source": [
    "c1: Method one"
   ]
  },
  {
   "cell_type": "code",
   "execution_count": 7,
   "metadata": {},
   "outputs": [
    {
     "name": "stdout",
     "output_type": "stream",
     "text": [
      "[[0. 1. 0. ... 0. 0. 0.]\n",
      " [0. 1. 0. ... 0. 0. 0.]\n",
      " [0. 0. 0. ... 0. 0. 0.]\n",
      " ...\n",
      " [0. 1. 0. ... 0. 0. 0.]\n",
      " [0. 1. 0. ... 0. 0. 0.]\n",
      " [0. 0. 0. ... 0. 0. 0.]]\n"
     ]
    }
   ],
   "source": [
    "line_dict = {}\n",
    "input1 = np.zeros((n,5000))\n",
    "idx = 0\n",
    "with open('20ng-train-all-terms.txt', \"r\") as file:\n",
    "    for line in file:\n",
    "        words = line.split()  \n",
    "        for word in words:\n",
    "            # count of Xi\n",
    "            if word in top5000:\n",
    "                if not word in line_dict:\n",
    "                # do not repeatly read in words of same document\n",
    "                    line_dict[word]=1 \n",
    "                    index=top5000.index(word)\n",
    "                    input1[idx][index]=1\n",
    "        idx+=1       \n",
    "        line_dict={}  # clear    \n",
    "print(input1)"
   ]
  },
  {
   "cell_type": "markdown",
   "metadata": {},
   "source": [
    "c2: Method two"
   ]
  },
  {
   "cell_type": "code",
   "execution_count": 9,
   "metadata": {},
   "outputs": [
    {
     "name": "stdout",
     "output_type": "stream",
     "text": [
      "[[ 1. 16.  1. ...  1.  1.  1.]\n",
      " [ 1. 56.  1. ...  1.  1.  1.]\n",
      " [ 1.  1.  1. ...  1.  1.  1.]\n",
      " ...\n",
      " [ 1.  2.  1. ...  1.  1.  1.]\n",
      " [ 1.  2.  1. ...  1.  1.  1.]\n",
      " [ 1.  1.  1. ...  1.  1.  1.]]\n"
     ]
    }
   ],
   "source": [
    "line_dict = {}\n",
    "input2 = np.ones((n,5000)) # initialize as 1 (max(1,0)=1)\n",
    "idx = 0\n",
    "with open('20ng-train-all-terms.txt', \"r\") as file:\n",
    "    for line in file:\n",
    "        words = line.split()  \n",
    "        for word in words:\n",
    "            # count of Xi\n",
    "            if word in top5000:\n",
    "                # do not repeatly read in words of same document\n",
    "                index=top5000.index(word)\n",
    "                input2[idx][index]+=1\n",
    "        idx+=1       \n",
    "print(input2)"
   ]
  },
  {
   "cell_type": "markdown",
   "metadata": {},
   "source": [
    "c3: Method three"
   ]
  },
  {
   "cell_type": "code",
   "execution_count": 8,
   "metadata": {},
   "outputs": [
    {
     "name": "stdout",
     "output_type": "stream",
     "text": [
      "[[0.         2.77258872 0.         ... 0.         0.         0.        ]\n",
      " [0.         4.02535169 0.         ... 0.         0.         0.        ]\n",
      " [0.         0.         0.         ... 0.         0.         0.        ]\n",
      " ...\n",
      " [0.         0.69314718 0.         ... 0.         0.         0.        ]\n",
      " [0.         0.69314718 0.         ... 0.         0.         0.        ]\n",
      " [0.         0.         0.         ... 0.         0.         0.        ]]\n"
     ]
    }
   ],
   "source": [
    "line_dict = {}\n",
    "input3 = np.ones((n,5000)) # initialize\n",
    "idx = 0\n",
    "with open('20ng-train-all-terms.txt', \"r\") as file:\n",
    "    for line in file:\n",
    "        words = line.split()  \n",
    "        for word in words:\n",
    "            # count of Xi\n",
    "            if word in top5000:\n",
    "                # do not repeatly read in words of same document\n",
    "                index=top5000.index(word)\n",
    "                input3[idx][index]+=1\n",
    "        idx+=1       \n",
    "for i in range(n):\n",
    "    for j in range(5000):\n",
    "            input3[i][j]=float(log(input3[i][j]))\n",
    "print(input3)"
   ]
  },
  {
   "cell_type": "markdown",
   "metadata": {},
   "source": [
    "test data"
   ]
  },
  {
   "cell_type": "code",
   "execution_count": 33,
   "metadata": {},
   "outputs": [
    {
     "name": "stdout",
     "output_type": "stream",
     "text": [
      "[[0.         0.69314718 0.         ... 0.         0.         0.        ]\n",
      " [0.         0.69314718 0.         ... 0.         0.         0.        ]\n",
      " [0.         0.         0.         ... 0.         0.         0.        ]\n",
      " ...\n",
      " [0.         0.         0.         ... 0.         0.         0.        ]\n",
      " [0.         0.         0.         ... 0.         0.         0.        ]\n",
      " [0.         0.         0.         ... 0.         0.         0.        ]]\n"
     ]
    }
   ],
   "source": [
    "line_dict = {}\n",
    "test = np.ones((len(Y_test),5000)) # initialize\n",
    "idx = 0\n",
    "with open('20ng-test-all-terms.txt', \"r\") as file:\n",
    "    for line in file:\n",
    "        words = line.split()  \n",
    "        for word in words:\n",
    "            # count of Xi\n",
    "            if word in top5000:\n",
    "                # do not repeatly read in words of same document\n",
    "                index=top5000.index(word)\n",
    "                test[idx][index]+=1\n",
    "        idx+=1       \n",
    "for i in range(len(Y_test)):\n",
    "    for j in range(5000):\n",
    "            test[i][j]=float(log(test[i][j]))\n",
    "print(test)"
   ]
  },
  {
   "cell_type": "markdown",
   "metadata": {},
   "source": [
    "c4: Label producing"
   ]
  },
  {
   "cell_type": "code",
   "execution_count": 12,
   "metadata": {},
   "outputs": [],
   "source": [
    "tmp = Y_train[0]\n",
    "output = np.zeros((n,1))\n",
    "label = 0 # initialize as 0, should be 0,1,2,...,18,19\n",
    "for i in range(1,n):\n",
    "    if Y_train[i]!=tmp:\n",
    "        label+=1 # add one when Y_train changes\n",
    "        tmp=Y_train[i]\n",
    "    output[i]=label  "
   ]
  },
  {
   "cell_type": "markdown",
   "metadata": {},
   "source": [
    "test label"
   ]
  },
  {
   "cell_type": "code",
   "execution_count": 17,
   "metadata": {},
   "outputs": [],
   "source": [
    "tmp = Y_test[0]\n",
    "output_test = np.zeros((len(Y_test),1))\n",
    "label = 0 # initialize as 0, should be 0,1,2,...,18,19\n",
    "for i in range(1,len(Y_test)):\n",
    "    if Y_test[i]!=tmp:\n",
    "        label+=1 # add one when Y_train changes\n",
    "        tmp=Y_test[i]\n",
    "    output_test[i]=label \n",
    "y_test=output_test.ravel()"
   ]
  },
  {
   "cell_type": "markdown",
   "metadata": {},
   "source": [
    "(d) SVM classifier"
   ]
  },
  {
   "cell_type": "markdown",
   "metadata": {},
   "source": [
    "split the data into training data set and validation data set"
   ]
  },
  {
   "cell_type": "code",
   "execution_count": 13,
   "metadata": {},
   "outputs": [],
   "source": [
    "from sklearn.model_selection import train_test_split\n",
    "#X_train, X_valid, y_train, y_valid= train_test_split(input1,output,test_size=0.2, random_state=0)\n",
    "#X_train, X_valid, y_train, y_valid= train_test_split(input2,output,test_size=0.2, random_state=0)\n",
    "X_train, X_valid, y_train, y_valid = train_test_split(input3,output,test_size=0.2, random_state=0)\n",
    "y_train=y_train.ravel()\n",
    "y_valid=y_valid.ravel()"
   ]
  },
  {
   "cell_type": "markdown",
   "metadata": {},
   "source": [
    "using different kernels:"
   ]
  },
  {
   "cell_type": "code",
   "execution_count": null,
   "metadata": {},
   "outputs": [],
   "source": [
    "from sklearn.svm import SVC \n",
    "from sklearn.multiclass import OneVsRestClassifier\n",
    "kernels = ['linear','rbf','poly']\n",
    "accuracy = np.zeros((3,1))\n",
    "for i in range(3):\n",
    "    svm_model = OneVsRestClassifier(SVC(kernel=kernels[i], C = 1,gamma='auto')).fit(X_train, y_train)\n",
    "    predict = svm_model.predict(X_valid) \n",
    "    accuracy[i] = svm_model.score(X_valid, y_valid) \n",
    "    print(kernels[i],'\\n',accuracy[i],'\\n')"
   ]
  },
  {
   "cell_type": "markdown",
   "metadata": {},
   "source": [
    "using different penalty parameters C:"
   ]
  },
  {
   "cell_type": "code",
   "execution_count": null,
   "metadata": {},
   "outputs": [
    {
     "name": "stdout",
     "output_type": "stream",
     "text": [
      "0.01 \n",
      " [0.84683488] \n",
      "\n"
     ]
    }
   ],
   "source": [
    "from sklearn.svm import SVC \n",
    "from sklearn.multiclass import OneVsRestClassifier\n",
    "c = [0.01, 0.05, 0.1, 0.5, 1]\n",
    "accuracy = np.zeros((5,1))\n",
    "for i in range(5):\n",
    "    svm_model_linear = OneVsRestClassifier(SVC(kernel='linear',C=c[i])).fit(X_train, y_train)\n",
    "    predict = svm_model_linear.predict(X_valid) \n",
    "    accuracy[i] = svm_model_linear.score(X_valid, y_valid) \n",
    "    print(c[i],'\\n',accuracy[i],'\\n')"
   ]
  },
  {
   "cell_type": "code",
   "execution_count": 14,
   "metadata": {},
   "outputs": [],
   "source": [
    "from sklearn.svm import SVC \n",
    "from sklearn.multiclass import OneVsRestClassifier\n",
    "svm_model_linear = OneVsRestClassifier(SVC(kernel='linear',C=0.1)).fit(X_train, y_train)\n",
    "#predict = svm_model_linear.predict(X_valid) \n",
    "#accuracy = svm_model_linear.score(X_valid, y_valid) \n",
    "#print('accuracy:','\\n',accuracy)"
   ]
  },
  {
   "cell_type": "markdown",
   "metadata": {},
   "source": [
    "(e) evaluate the model:"
   ]
  },
  {
   "cell_type": "code",
   "execution_count": 35,
   "metadata": {},
   "outputs": [
    {
     "name": "stdout",
     "output_type": "stream",
     "text": [
      "accuracy: \n",
      " 0.7562433581296493\n"
     ]
    }
   ],
   "source": [
    "predict = svm_model_linear.predict(test) \n",
    "accuracy = svm_model_linear.score(test,y_test) \n",
    "print('accuracy:','\\n',accuracy)"
   ]
  },
  {
   "cell_type": "code",
   "execution_count": 36,
   "metadata": {},
   "outputs": [],
   "source": [
    "predict = svm_model_linear.predict(test)"
   ]
  },
  {
   "cell_type": "code",
   "execution_count": 39,
   "metadata": {},
   "outputs": [
    {
     "name": "stdout",
     "output_type": "stream",
     "text": [
      "[(164, 12.0), (152, 18.0), (145, 3.0), (134, 19.0), (131, 1.0), (122, 2.0), (117, 5.0), (108, 13.0), (102, 0.0), (99, 4.0), (95, 17.0), (78, 7.0), (65, 14.0), (58, 16.0), (57, 15.0), (53, 11.0), (51, 9.0), (46, 8.0), (38, 6.0), (20, 10.0)]\n"
     ]
    }
   ],
   "source": [
    "wrong_class={}\n",
    "for i in range(len(predict)):\n",
    "    if predict[i]!=y_test[i]:\n",
    "        class_type=y_test[i]\n",
    "        if class_type not in wrong_class:\n",
    "            wrong_class[class_type]=1\n",
    "        else:\n",
    "            wrong_class[class_type]+=1\n",
    "#sort\n",
    "wrong = sorted([(k,v) for (v,k) in wrong_class.items()], reverse=True)\n",
    "print(wrong)"
   ]
  },
  {
   "cell_type": "code",
   "execution_count": 60,
   "metadata": {},
   "outputs": [
    {
     "name": "stdout",
     "output_type": "stream",
     "text": [
      "     |                                           1   1   1   1   1   1   1   1   1   1 |\n",
      "     |   0   1   2   3   4   5   6   7   8   9   0   1   2   3   4   5   6   7   8   9 |\n",
      "     |   .   .   .   .   .   .   .   .   .   .   .   .   .   .   .   .   .   .   .   . |\n",
      "     |   0   0   0   0   0   0   0   0   0   0   0   0   0   0   0   0   0   0   0   0 |\n",
      "-----+---------------------------------------------------------------------------------+\n",
      " 0.0 |<217>  2   .   3   .   1   .   2   2   4   1   2   2   9   6  15   6   3   .  44 |\n",
      " 1.0 |   5<258> 20  11  10  21  12   4   2   8   1   3  13   4   6   3   1   2   2   3 |\n",
      " 2.0 |   1  32<272> 32  14  12   4   2   .   4   1   1   4   4   2   1   .   3   4   1 |\n",
      " 3.0 |   .  15  31<247> 29  11  18   7   .   1   .   2  22   3   1   .   2   .   2   1 |\n",
      " 4.0 |   2   8  10  35<286>  4   8   2   .   3   1   2  14   3   3   1   .   .   2   1 |\n",
      " 5.0 |   2  35  27   7   8<275> 15   2   1   1   4   3   3   2   3   .   1   .   .   3 |\n",
      " 6.0 |   .   5   1   7   6   .<352>  4   .   3   1   1   6   2   1   .   .   1   .   . |\n",
      " 7.0 |   2   1   1   2   2   3  13<317> 14   5   2   .  13   1   5   .   7   1   3   3 |\n",
      " 8.0 |   .   .   .   1   3   1   3  22<352>  2   1   1   2   2   1   1   4   .   2   . |\n",
      " 9.0 |   1   .   .   2   1   1   6   2   .<346> 16   .   5   4   2   .   .   1   7   3 |\n",
      "10.0 |   1   2   .   1   1   .   2   .   1   8<379>  .   1   1   1   .   1   .   .   . |\n",
      "11.0 |   1   3   5   4   3   4   2   2   3   7   .<343>  4   3   1   1   4   2   2   2 |\n",
      "12.0 |   5  19  13  26  16  10  11  10   4   4   2  15<229> 12   6   3   .   1   6   1 |\n",
      "13.0 |   8  11   1   2   4   3   7  12   8   4   3   5   5<288> 11  11   3   2   2   6 |\n",
      "14.0 |   5  11   2   5   3   1   2   2   2   3   .   2   8  10<329>  .   .   2   5   2 |\n",
      "15.0 |  10   1   1   1   .   3   1   2   .   2   1   1   2   4   1<341>  1   1   2  23 |\n",
      "16.0 |   2   .   3   .   1   3   1   2   3   4   1   6   2   7   .   1<306>  2  14   6 |\n",
      "17.0 |  20   2   .   1   3   2   1   4   3   4   1   2   3   .   5   9   6<281> 16  13 |\n",
      "18.0 |   2   3   .   1   .   2   2   2   2   1   1   3   .   9   9   4  92   6<158> 13 |\n",
      "19.0 |  41   2   4   2   .   2   .   1   3   2   .   .   4   7   7  33  14   5   7<117>|\n",
      "-----+---------------------------------------------------------------------------------+\n",
      "(row = reference; col = test)\n",
      "\n"
     ]
    }
   ],
   "source": [
    "from nltk import ConfusionMatrix\n",
    "matrix=ConfusionMatrix(list(y_test), list(predict))\n",
    "print(matrix)"
   ]
  },
  {
   "cell_type": "code",
   "execution_count": 61,
   "metadata": {},
   "outputs": [
    {
     "data": {
      "text/plain": [
       "<matplotlib.axes._subplots.AxesSubplot at 0x178b6d8b898>"
      ]
     },
     "execution_count": 61,
     "metadata": {},
     "output_type": "execute_result"
    },
    {
     "data": {
      "image/png": "[encoded data removed]",
      "text/plain": [
       "<Figure size 1080x720 with 2 Axes>"
      ]
     },
     "metadata": {},
     "output_type": "display_data"
    }
   ],
   "source": [
    "import sklearn\n",
    "import seaborn as sn\n",
    "import pandas as pd\n",
    "import matplotlib.pyplot as plt\n",
    "matrix = sklearn.metrics.confusion_matrix(y_test, predict)\n",
    "df_cm = pd.DataFrame(matrix, range(20),range(20))\n",
    "plt.figure(figsize = (15,10))\n",
    "sn.set(font_scale=1.4)#for label size\n",
    "sn.heatmap(df_cm, annot=True,annot_kws={\"size\": 8})# font size"
   ]
  },
  {
   "cell_type": "code",
   "execution_count": 85,
   "metadata": {},
   "outputs": [
    {
     "name": "stdout",
     "output_type": "stream",
     "text": [
      "max matrix:\n",
      " [[5.800e+01 1.890e+02 1.630e+02 2.500e+02 9.000e+01 8.890e+02 1.471e+03\n",
      "  1.347e+03 1.009e+03 1.324e+03]\n",
      " [3.900e+01 1.343e+03 8.270e+02 1.764e+03 5.020e+02 2.132e+03 2.757e+03\n",
      "  1.241e+03 2.826e+03 6.000e+02]\n",
      " [0.000e+00 3.500e+01 7.700e+02 2.220e+02 2.390e+02 6.700e+01 2.544e+03\n",
      "  1.881e+03 1.851e+03 1.992e+03]\n",
      " [9.360e+02 2.170e+02 1.253e+03 2.480e+02 7.300e+01 2.264e+03 8.980e+02\n",
      "  3.380e+02 1.882e+03 3.990e+02]\n",
      " [4.600e+01 6.200e+01 3.680e+02 7.570e+02 8.070e+02 1.346e+03 3.360e+02\n",
      "  2.046e+03 9.230e+02 1.000e+03]\n",
      " [1.160e+02 1.500e+01 3.050e+02 2.010e+02 6.130e+02 6.000e+01 5.370e+02\n",
      "  1.314e+03 1.864e+03 3.590e+02]\n",
      " [2.000e+00 4.170e+02 1.030e+02 2.444e+03 1.800e+02 9.060e+02 5.640e+02\n",
      "  2.876e+03 2.597e+03 3.080e+02]\n",
      " [9.000e+00 5.000e+01 6.210e+02 9.570e+02 6.990e+02 7.440e+02 1.133e+03\n",
      "  1.079e+03 2.580e+03 3.950e+02]\n",
      " [4.000e+00 1.200e+01 1.600e+02 1.860e+02 1.820e+02 6.190e+02 1.140e+03\n",
      "  1.100e+02 9.200e+02 2.130e+02]\n",
      " [3.600e+01 5.740e+02 2.100e+03 4.250e+02 1.295e+03 4.100e+01 9.780e+02\n",
      "  3.770e+02 2.217e+03 1.613e+03]\n",
      " [2.200e+01 4.700e+01 1.690e+02 2.630e+02 4.640e+02 1.010e+03 2.410e+02\n",
      "  1.032e+03 5.840e+02 1.045e+03]\n",
      " [3.000e+00 1.600e+01 2.640e+02 2.460e+02 1.350e+02 7.600e+01 2.400e+02\n",
      "  2.380e+02 7.900e+01 1.040e+02]\n",
      " [6.920e+02 2.650e+02 1.737e+03 6.450e+02 6.490e+02 1.784e+03 1.800e+03\n",
      "  1.956e+03 8.640e+02 2.808e+03]\n",
      " [3.010e+02 1.940e+02 8.040e+02 3.520e+02 1.125e+03 8.050e+02 1.450e+02\n",
      "  3.760e+02 2.031e+03 2.080e+02]\n",
      " [2.700e+01 9.500e+01 4.580e+02 2.100e+02 1.580e+02 3.580e+02 9.800e+02\n",
      "  2.097e+03 4.030e+02 9.100e+02]\n",
      " [7.200e+01 2.060e+02 3.000e+01 1.342e+03 7.100e+01 1.582e+03 2.610e+02\n",
      "  4.000e+01 2.559e+03 8.360e+02]\n",
      " [2.500e+01 5.500e+01 1.480e+02 3.300e+02 2.140e+02 1.070e+02 1.490e+02\n",
      "  7.520e+02 8.320e+02 1.080e+02]\n",
      " [2.300e+01 2.900e+01 2.330e+02 8.100e+01 2.300e+02 5.200e+01 1.402e+03\n",
      "  2.970e+02 8.090e+02 1.782e+03]\n",
      " [1.843e+03 5.280e+02 3.780e+02 5.600e+01 2.526e+03 2.393e+03 2.605e+03\n",
      "  1.217e+03 3.004e+03 6.600e+02]\n",
      " [1.679e+03 3.090e+03 1.352e+03 3.440e+02 1.590e+02 2.430e+02 2.051e+03\n",
      "  2.779e+03 1.400e+01 2.420e+03]] \n",
      "\n",
      "min_matrix:\n",
      " [[3.000e+01 1.160e+03 2.400e+01 3.230e+02 5.300e+02 1.487e+03 3.093e+03\n",
      "  4.000e+00 8.200e+01 7.800e+02]\n",
      " [4.620e+02 3.500e+01 2.505e+03 1.965e+03 4.490e+02 2.696e+03 2.700e+01\n",
      "  2.000e+00 0.000e+00 6.930e+02]\n",
      " [3.900e+01 1.500e+01 2.000e+00 1.160e+02 9.360e+02 5.780e+02 4.600e+01\n",
      "  7.180e+02 1.545e+03 1.330e+03]\n",
      " [4.600e+01 2.950e+02 6.200e+01 3.500e+01 0.000e+00 2.582e+03 7.550e+02\n",
      "  3.080e+02 1.030e+02 7.570e+02]\n",
      " [1.370e+02 7.300e+01 0.000e+00 8.690e+02 2.170e+02 3.800e+01 2.480e+02\n",
      "  2.444e+03 2.000e+00 9.000e+00]\n",
      " [2.230e+02 3.850e+02 2.000e+00 3.610e+02 2.132e+03 7.970e+02 4.810e+02\n",
      "  3.900e+01 6.200e+01 2.444e+03]\n",
      " [3.530e+02 7.170e+02 4.500e+01 1.200e+01 5.920e+02 1.469e+03 2.130e+02\n",
      "  3.970e+02 2.450e+03 4.520e+02]\n",
      " [1.200e+01 8.490e+02 1.306e+03 5.630e+02 4.000e+00 2.000e+00 1.000e+00\n",
      "  2.240e+02 1.394e+03 1.860e+02]\n",
      " [9.000e+00 5.000e+01 1.317e+03 2.301e+03 3.150e+02 4.160e+02 7.180e+02\n",
      "  7.840e+02 8.410e+02 6.970e+02]\n",
      " [2.200e+01 4.700e+01 1.400e+02 1.700e+02 4.510e+02 7.150e+02 0.000e+00\n",
      "  5.840e+02 9.380e+02 1.690e+02]\n",
      " [4.250e+02 2.444e+03 2.450e+02 2.260e+03 1.613e+03 1.326e+03 3.600e+01\n",
      "  1.016e+03 8.900e+01 5.600e+01]\n",
      " [0.000e+00 2.500e+01 8.820e+02 2.750e+02 1.485e+03 9.060e+02 5.500e+01\n",
      "  1.378e+03 4.820e+02 7.170e+02]\n",
      " [4.600e+01 1.030e+02 2.000e+00 2.575e+03 4.000e+00 2.121e+03 3.000e+00\n",
      "  2.130e+02 4.170e+02 5.480e+02]\n",
      " [2.700e+01 9.000e+00 1.463e+03 2.505e+03 1.400e+01 1.000e+00 2.400e+01\n",
      "  2.000e+01 2.600e+01 2.500e+01]\n",
      " [8.490e+02 0.000e+00 3.900e+01 2.000e+00 1.510e+02 9.000e+00 2.070e+02\n",
      "  1.200e+01 5.300e+01 2.730e+02]\n",
      " [1.843e+03 3.400e+01 2.140e+03 8.660e+02 1.536e+03 2.533e+03 9.380e+02\n",
      "  2.111e+03 8.590e+02 1.622e+03]\n",
      " [6.970e+02 1.600e+01 5.280e+02 6.690e+02 6.620e+02 4.860e+02 3.000e+00\n",
      "  6.710e+02 1.930e+02 3.390e+02]\n",
      " [5.700e+02 1.330e+03 2.820e+02 2.700e+01 1.000e+00 2.520e+02 3.600e+01\n",
      "  1.400e+01 2.268e+03 1.022e+03]\n",
      " [7.140e+02 1.100e+01 5.500e+01 1.480e+02 3.000e+00 2.170e+03 2.700e+01\n",
      "  9.590e+02 1.411e+03 2.500e+01]\n",
      " [5.800e+01 2.060e+02 3.000e+01 1.763e+03 1.050e+02 3.980e+02 4.110e+02\n",
      "  7.040e+02 5.040e+02 8.200e+02]] \n",
      "\n"
     ]
    }
   ],
   "source": [
    "weight = svm_model_linear.coef_\n",
    "max_matrix = np.zeros((20,10))\n",
    "min_matrix = np.zeros((20,10))\n",
    "for i in range(10):\n",
    "    max_matrix[:,i] = np.argmax(weight,axis=1)\n",
    "    for j in range(20):\n",
    "        index=int(max_matrix[j,i])\n",
    "        weight[j,index]=0\n",
    "for i in range(10):\n",
    "    min_matrix[:,i] = np.argmin(weight,axis=1)\n",
    "    for j in range(20):\n",
    "        index=int(min_matrix[j,i])\n",
    "        weight[j,index]=0\n",
    "print('max matrix:\\n',max_matrix,'\\n')\n",
    "print('min_matrix:\\n',min_matrix,'\\n')\n"
   ]
  },
  {
   "cell_type": "code",
   "execution_count": 19,
   "metadata": {},
   "outputs": [
    {
     "name": "stdout",
     "output_type": "stream",
     "text": [
      "max:\n",
      "\n",
      "atheists\n",
      "graphics\n",
      "windows\n",
      "gateway\n",
      "mac\n",
      "motif\n",
      "sale\n",
      "car\n",
      "dod\n",
      "baseball\n",
      "hockey\n",
      "clipper\n",
      "electronics\n",
      "doctor\n",
      "space\n",
      "athos\n",
      "gun\n",
      "israel\n",
      "kaldis\n",
      "promise\n",
      "\n",
      "min:\n",
      "\n",
      "rutgers\n",
      "mit\n",
      "graphics\n",
      "mac\n",
      "controller\n",
      "go\n",
      "other\n",
      "bike\n",
      "car\n",
      "hockey\n",
      "runs\n",
      "windows\n",
      "mac\n",
      "space\n",
      "contact\n",
      "kaldis\n",
      "message\n",
      "given\n",
      "read\n",
      "atheists\n"
     ]
    }
   ],
   "source": [
    "print('max:\\n')\n",
    "for i in range(20):\n",
    "    print(best[max_matrix[i][0]][1])\n",
    "print('\\nmin:\\n')\n",
    "for i in range(20):\n",
    "    print(best[min_matrix[i][0]][1])"
   ]
  }
 ],
 "metadata": {
  "kernelspec": {
   "display_name": "Python 3",
   "language": "python",
   "name": "python3"
  },
  "language_info": {
   "codemirror_mode": {
    "name": "ipython",
    "version": 3
   },
   "file_extension": ".py",
   "mimetype": "text/x-python",
   "name": "python",
   "nbconvert_exporter": "python",
   "pygments_lexer": "ipython3",
   "version": "3.7.0"
  }
 },
 "nbformat": 4,
 "nbformat_minor": 2
}
