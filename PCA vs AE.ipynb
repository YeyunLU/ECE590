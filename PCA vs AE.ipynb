{
 "cells": [
  {
   "cell_type": "code",
   "execution_count": 1,
   "metadata": {},
   "outputs": [
    {
     "name": "stdout",
     "output_type": "stream",
     "text": [
      "(40872, 20, 20)\n",
      "(10382, 20, 20)\n",
      "(10324, 20, 20)\n"
     ]
    }
   ],
   "source": [
    "import os\n",
    "import numpy as np \n",
    "from PIL import Image\n",
    "def LoadDir(dirname):\n",
    "    imgs = []\n",
    "    for imgname in os.listdir(dirname):\n",
    "        img = Image.open(os.path.join(dirname, imgname))\n",
    "        img = img.convert('LA')  # conver to grayscale\n",
    "        img = img.resize([20, 20])\n",
    "        img = np.squeeze(np.array(img)[:, :, 0])\n",
    "        imgs.append(img)\n",
    "    return np.array(imgs)\n",
    "train_imgs = LoadDir('galaxy/train')\n",
    "print (train_imgs.shape)\n",
    "val_imgs = LoadDir('galaxy/val')\n",
    "print (val_imgs.shape)\n",
    "test_imgs = LoadDir('galaxy/test')\n",
    "print (test_imgs.shape)"
   ]
  },
  {
   "cell_type": "markdown",
   "metadata": {},
   "source": [
    "reshape imgs from 3 dimension into 2 dimension"
   ]
  },
  {
   "cell_type": "code",
   "execution_count": 80,
   "metadata": {},
   "outputs": [],
   "source": [
    "X_train = train_imgs.reshape(train_imgs.shape[0],(train_imgs.shape[1]*train_imgs.shape[2]))\n",
    "#X_train = np.true_divide(X_train, 255)\n",
    "X_valid = val_imgs.reshape(val_imgs.shape[0],(val_imgs.shape[1]*val_imgs.shape[2]))\n",
    "#X_valid = np.true_divide(X_valid, 255)\n",
    "X_test = test_imgs.reshape(test_imgs.shape[0],(test_imgs.shape[1]*test_imgs.shape[2]))\n",
    "#X_test = np.true_divide(X_test, 255)"
   ]
  },
  {
   "cell_type": "code",
   "execution_count": 24,
   "metadata": {},
   "outputs": [],
   "source": [
    "def MSE(predict,X):          \n",
    "    return np.sum((predict-X)**2)/(X.shape[0]*X.shape[1])"
   ]
  },
  {
   "cell_type": "code",
   "execution_count": 36,
   "metadata": {},
   "outputs": [],
   "source": [
    "def MSE2(predict,x):          \n",
    "    return np.sum((predict-x)**2)/(len(x))"
   ]
  },
  {
   "cell_type": "code",
   "execution_count": 32,
   "metadata": {},
   "outputs": [
    {
     "name": "stdout",
     "output_type": "stream",
     "text": [
      "encode: (10382, 25)\n",
      "decode: (10324, 400)\n"
     ]
    }
   ],
   "source": [
    "import numpy as np\n",
    "from sklearn.decomposition import PCA\n",
    "pca = PCA(n_components=25)\n",
    "encode = pca.fit_transform(X_valid)\n",
    "print('encode:',encode.shape)\n",
    "decode1 = pca.inverse_transform(encode)\n",
    "print('decode:',decode.shape)"
   ]
  },
  {
   "cell_type": "code",
   "execution_count": 33,
   "metadata": {},
   "outputs": [
    {
     "name": "stdout",
     "output_type": "stream",
     "text": [
      "PCA MSE for validation data set: 71.2295039754151\n"
     ]
    }
   ],
   "source": [
    "error = MSE(decode1,X_valid)\n",
    "print('PCA MSE for validation data set:',error)"
   ]
  },
  {
   "cell_type": "code",
   "execution_count": 34,
   "metadata": {},
   "outputs": [
    {
     "name": "stdout",
     "output_type": "stream",
     "text": [
      "PCA MSE for test data set: 71.42627571656304\n"
     ]
    }
   ],
   "source": [
    "pca = PCA(n_components=25)\n",
    "encode = pca.fit_transform(X_test)\n",
    "decode2 = pca.inverse_transform(encode)\n",
    "error = MSE(decode2,X_test)\n",
    "print('PCA MSE for test data set:',error)"
   ]
  },
  {
   "cell_type": "markdown",
   "metadata": {},
   "source": [
    "Auto Encoder"
   ]
  },
  {
   "cell_type": "code",
   "execution_count": 81,
   "metadata": {},
   "outputs": [
    {
     "name": "stdout",
     "output_type": "stream",
     "text": [
      "identity MSE: 76.06715422249013\n",
      "logistic MSE: 120.53264658529928\n",
      "tanh MSE: 73.18321353344234\n",
      "relu MSE: 89.59485508887316\n"
     ]
    }
   ],
   "source": [
    "X_train = np.true_divide(X_train, 255)\n",
    "AF = ['identity', 'logistic', 'tanh', 'relu']\n",
    "from sklearn.neural_network import MLPRegressor\n",
    "for i in range(4):\n",
    "    clf = MLPRegressor(activation=AF[i],learning_rate_init=0.005,alpha=0.005,hidden_layer_sizes=(100,25,100), random_state=1,max_iter=10000, warm_start=True)\n",
    "    clf.fit(X_train,X_train)\n",
    "    predict1 = clf.predict(X_valid/255)\n",
    "    error = MSE(predict1*255,X_valid)\n",
    "    print(AF[i],'MSE:',error)"
   ]
  },
  {
   "cell_type": "code",
   "execution_count": 59,
   "metadata": {},
   "outputs": [
    {
     "name": "stdout",
     "output_type": "stream",
     "text": [
      "lr: 0.001 MSE: 75.24819075460083\n",
      "lr: 0.005 MSE: 73.18321353344234\n",
      "lr: 0.01 MSE: 75.53143681104125\n",
      "lr: 0.05 MSE: 1329.7798700292522\n",
      "lr: 0.1 MSE: 4878.683480024894\n"
     ]
    }
   ],
   "source": [
    "lr=[1e-3,5e-3,1e-2,5e-2,1e-1]\n",
    "for i in range(5):\n",
    "    clf = MLPRegressor(activation='tanh',learning_rate_init=lr[i],alpha=0.005,hidden_layer_sizes=(100,25,100), random_state=1,max_iter=1000, warm_start=True)\n",
    "    clf.fit(X_train,X_train)\n",
    "    predict1 = clf.predict(X_valid/255)\n",
    "    error = MSE(predict1*255,X_valid)\n",
    "    print('lr:',lr[i],'MSE:',error)"
   ]
  },
  {
   "cell_type": "code",
   "execution_count": 61,
   "metadata": {},
   "outputs": [
    {
     "name": "stdout",
     "output_type": "stream",
     "text": [
      "alpha: 0.001 MSE: 73.39882906863758\n",
      "alpha: 0.005 MSE: 73.18321353344234\n",
      "alpha: 0.01 MSE: 78.66879537059737\n",
      "alpha: 0.05 MSE: 73.62521982367241\n",
      "alpha: 0.1 MSE: 73.96199240168848\n"
     ]
    }
   ],
   "source": [
    "reg=[1e-3,5e-3,1e-2,5e-2,1e-1]\n",
    "for i in range(5):\n",
    "    clf = MLPRegressor(activation='tanh',learning_rate_init=5e-3,alpha=reg[i],hidden_layer_sizes=(100,25,100), random_state=1,max_iter=1000, warm_start=True)\n",
    "    clf.fit(X_train,X_train)\n",
    "    predict1 = clf.predict(X_valid/255)\n",
    "    error = MSE(predict1*255,X_valid)\n",
    "    print('alpha:',lr[i],'MSE:',error)"
   ]
  },
  {
   "cell_type": "code",
   "execution_count": 65,
   "metadata": {},
   "outputs": [
    {
     "name": "stdout",
     "output_type": "stream",
     "text": [
      "hidden layer size: 25 MSE: 73.3244017966915\n",
      "hidden layer size: (100, 25, 100) MSE: 73.18321353344234\n",
      "hidden layer size: (100, 50, 25, 50, 100) MSE: 74.76823645355981\n"
     ]
    }
   ],
   "source": [
    "layer_size=[(25),(100,25,100),(100,50,25,50,100)]\n",
    "for i in range(3):\n",
    "    clf = MLPRegressor(activation='tanh',learning_rate_init=5e-3,alpha=5e-3,hidden_layer_sizes=layer_size[i], random_state=1,max_iter=1000, warm_start=True)\n",
    "    clf.fit(X_train,X_train)\n",
    "    predict1 = clf.predict(X_valid/255)\n",
    "    error = MSE(predict1*255,X_valid)\n",
    "    print('hidden layer size:',layer_size[i],'MSE:',error)"
   ]
  },
  {
   "cell_type": "code",
   "execution_count": 82,
   "metadata": {},
   "outputs": [
    {
     "name": "stdout",
     "output_type": "stream",
     "text": [
      "AE MSE for validation data set: 73.18321353344234\n"
     ]
    }
   ],
   "source": [
    "# choose tanh activation function, learning rate=0.005, alpha=0.005, hidden_layer_size=(100,25,100)\n",
    "clf = MLPRegressor(activation='tanh',learning_rate_init=0.005,alpha=0.005,hidden_layer_sizes=(100,25,100), random_state=1,max_iter=1000, warm_start=True)\n",
    "clf.fit(X_train,X_train)\n",
    "predict1 = clf.predict(X_valid/255)\n",
    "error = MSE(predict1*255,X_valid)\n",
    "print('AE MSE for validation data set:',error)"
   ]
  },
  {
   "cell_type": "code",
   "execution_count": 83,
   "metadata": {},
   "outputs": [
    {
     "name": "stdout",
     "output_type": "stream",
     "text": [
      "AE MSE for test test set: 73.32171389584842\n"
     ]
    }
   ],
   "source": [
    "predict2 = clf.predict(X_test/255)\n",
    "error = MSE(predict2*255,X_test)\n",
    "print('AE MSE for test test set:',error)"
   ]
  },
  {
   "cell_type": "markdown",
   "metadata": {},
   "source": [
    "PCA vs Auto Encoder:\n",
    "\n",
    "PCA MSE for validation data set: 71.2295039754151\n",
    "\n",
    "AE MSE for validation data set: 73.18321353344234\n",
    "\n",
    "PCA MSE for test data set: 71.42627571656304\n",
    "\n",
    "AE MSE for test test set: 73.32171389584842\n",
    "\n",
    "Conclusion: PCA tends to work better. \n",
    "However, the performance of Auto Encoder is close to that of PCA."
   ]
  },
  {
   "cell_type": "markdown",
   "metadata": {},
   "source": [
    "compare PCA and auto-encoder:"
   ]
  },
  {
   "cell_type": "code",
   "execution_count": 109,
   "metadata": {},
   "outputs": [],
   "source": [
    "%matplotlib inline\n",
    "import matplotlib.pyplot as plt\n",
    "AE_better = 0\n",
    "PCA_better = 0\n",
    "for i in range(X_test.shape[0]):\n",
    "    if MSE2(decode2[i,:],X_test[i,:])>MSE2(predict2[i,:]*255,X_test[i,:]):\n",
    "        AE_better=i\n",
    "        \n",
    "for i in range(X_test.shape[0]):\n",
    "    if MSE2(decode2[i,:],X_test[i,:])<MSE2(predict2[i,:]*255,X_test[i,:]):\n",
    "        PCA_better=i\n",
    "    "
   ]
  },
  {
   "cell_type": "code",
   "execution_count": 111,
   "metadata": {},
   "outputs": [
    {
     "name": "stdout",
     "output_type": "stream",
     "text": [
      "\n",
      "Auto Encoder better:\n",
      "\n"
     ]
    },
    {
     "data": {
      "image/png": "[encoded data removed]",
      "text/plain": [
       "<Figure size 864x216 with 3 Axes>"
      ]
     },
     "metadata": {},
     "output_type": "display_data"
    }
   ],
   "source": [
    "print('\\nAuto Encoder better:\\n')     \n",
    "plt.figure(figsize=(12,3))\n",
    "plt.subplot(1,3,1)\n",
    "plt.imshow(np.reshape(X_test[AE_better1,:],(20,20)))\n",
    "plt.title('original')\n",
    "plt.subplot(1,3,2)\n",
    "plt.imshow(np.reshape(decode2[AE_better1,:],(20,20)))\n",
    "plt.title('PCA')\n",
    "plt.subplot(1,3,3)\n",
    "plt.imshow(np.reshape(predict2[AE_better1,:],(20,20)))\n",
    "plt.title('Auto Encoder')\n",
    "plt.show()"
   ]
  },
  {
   "cell_type": "code",
   "execution_count": 112,
   "metadata": {},
   "outputs": [
    {
     "name": "stdout",
     "output_type": "stream",
     "text": [
      "\n",
      "PCA better:\n",
      "\n"
     ]
    },
    {
     "data": {
      "image/png": "[encoded data removed]",
      "text/plain": [
       "<Figure size 864x216 with 3 Axes>"
      ]
     },
     "metadata": {},
     "output_type": "display_data"
    }
   ],
   "source": [
    "print('\\nPCA better:\\n')  \n",
    "plt.figure(figsize=(12,3))\n",
    "plt.subplot(1,3,1)\n",
    "plt.imshow(np.reshape(X_test[PCA_better,:],(20,20)))\n",
    "plt.title('original')\n",
    "plt.subplot(1,3,2)\n",
    "plt.imshow(np.reshape(decode2[PCA_better,:],(20,20)))\n",
    "plt.title('PCA')\n",
    "plt.subplot(1,3,3)\n",
    "plt.imshow(np.reshape(predict2[PCA_better,:],(20,20)))\n",
    "plt.title('Auto Encoder')\n",
    "plt.show()"
   ]
  },
  {
   "cell_type": "markdown",
   "metadata": {},
   "source": [
    "Conclusion:\n",
    "\n",
    "For images with an x-axis perpendicular to the y-axis, auto encoder is better.\n",
    "\n",
    "For images with a certain angle of inclination, PCA is better.\n"
   ]
  }
 ],
 "metadata": {
  "kernelspec": {
   "display_name": "Python 3",
   "language": "python",
   "name": "python3"
  },
  "language_info": {
   "codemirror_mode": {
    "name": "ipython",
    "version": 3
   },
   "file_extension": ".py",
   "mimetype": "text/x-python",
   "name": "python",
   "nbconvert_exporter": "python",
   "pygments_lexer": "ipython3",
   "version": "3.7.0"
  }
 },
 "nbformat": 4,
 "nbformat_minor": 2
}
