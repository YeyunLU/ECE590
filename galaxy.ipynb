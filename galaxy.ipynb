{
 "cells": [
  {
   "cell_type": "code",
   "execution_count": 1,
   "metadata": {},
   "outputs": [
    {
     "name": "stderr",
     "output_type": "stream",
     "text": [
      "C:\\Users\\luyey\\Anaconda3\\lib\\site-packages\\ipykernel\\parentpoller.py:116: UserWarning: Parent poll failed.  If the frontend dies,\n",
      "                the kernel may be left running.  Please let us know\n",
      "                about your system (bitness, Python, etc.) at\n",
      "                ipython-dev@scipy.org\n",
      "  ipython-dev@scipy.org\"\"\")\n"
     ]
    },
    {
     "name": "stdout",
     "output_type": "stream",
     "text": [
      "(1, 20, 20)\n",
      "(1, 20, 20)\n",
      "(1, 20, 20)\n"
     ]
    }
   ],
   "source": [
    "import os\n",
    "\n",
    "import numpy as np\n",
    "from PIL import Image\n",
    "\n",
    "\n",
    "def LoadDir(dirname):\n",
    "    imgs = []\n",
    "    for imgname in os.listdir(dirname):\n",
    "        img = Image.open(os.path.join(dirname, imgname))\n",
    "        img = img.convert('LA')  # conver to grayscale\n",
    "        img = img.resize([20, 20])\n",
    "    \n",
    "    img = np.squeeze(np.array(img)[:, :, 0])\n",
    "    imgs.append(img)\n",
    "\n",
    "    return np.array(imgs)\n",
    "\n",
    "train_imgs = LoadDir('galaxy/train')\n",
    "print(train_imgs.shape)\n",
    "val_imgs = LoadDir('galaxy/val')\n",
    "print(val_imgs.shape)\n",
    "test_imgs = LoadDir('galaxy/test')\n",
    "print(test_imgs.shape)"
   ]
  }
 ],
 "metadata": {
  "kernelspec": {
   "display_name": "Python 3",
   "language": "python",
   "name": "python3"
  },
  "language_info": {
   "codemirror_mode": {
    "name": "ipython",
    "version": 3
   },
   "file_extension": ".py",
   "mimetype": "text/x-python",
   "name": "python",
   "nbconvert_exporter": "python",
   "pygments_lexer": "ipython3",
   "version": "3.7.0"
  }
 },
 "nbformat": 4,
 "nbformat_minor": 2
}
