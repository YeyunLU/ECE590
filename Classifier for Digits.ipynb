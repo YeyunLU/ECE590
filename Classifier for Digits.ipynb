{
 "cells": [
  {
   "cell_type": "code",
   "execution_count": 1,
   "metadata": {
    "scrolled": true
   },
   "outputs": [],
   "source": [
    "import numpy as np\n",
    "import pandas as pd\n",
    "import sklearn\n",
    "\n",
    "#load data\n",
    "train =  pd.read_csv('train.csv',header=None,sep=' ')\n",
    "\n",
    "X_train=train.drop(columns=[0, 257])\n",
    "Y_train=train[0]\n",
    "test = pd.read_csv('test.csv',header=None,sep=' ')\n",
    "X_test=test.drop(columns=[0])\n",
    "Y_test=test[0]"
   ]
  },
  {
   "cell_type": "code",
   "execution_count": null,
   "metadata": {},
   "outputs": [],
   "source": [
    "# KNN method\n",
    "from sklearn.neighbors import KNeighborsClassifier\n",
    "from sklearn.model_selection import cross_val_score\n",
    "import matplotlib.pyplot as plt\n",
    "k_list = list(range(1,50))\n",
    "k_odd = filter(lambda x:x%2!=0,k_list)\n",
    "cv_scores = []\n",
    "for k in k_odd:\n",
    "    knn = KNeighborsClassifier(n_neighbors=k)\n",
    "    scores=cross_val_score(knn, X_train, Y_train,cv=10,scoring='accuracy')\n",
    "    score=scores.mean()\n",
    "    cv_scores.append(score)\n",
    "    #print('k=',k)\n",
    "    #print('valid result:',score)"
   ]
  },
  {
   "cell_type": "code",
   "execution_count": 21,
   "metadata": {},
   "outputs": [
    {
     "data": {
      "image/png": "[encoded data removed]",
      "text/plain": [
       "<Figure size 576x288 with 1 Axes>"
      ]
     },
     "metadata": {
      "needs_background": "light"
     },
     "output_type": "display_data"
    }
   ],
   "source": [
    "error=[1-x for x in cv_scores]\n",
    "k = np.linspace(1,49,25)\n",
    "plt.figure(figsize=(8,4))\n",
    "plt.plot(k,error)\n",
    "plt.xlabel('Number of Neighbors K')\n",
    "plt.ylabel('Error of Valid data set')\n",
    "plt.show()"
   ]
  },
  {
   "cell_type": "code",
   "execution_count": 9,
   "metadata": {},
   "outputs": [
    {
     "data": {
      "image/png": "[encoded data removed]",
      "text/plain": [
       "<Figure size 576x288 with 1 Axes>"
      ]
     },
     "metadata": {
      "needs_background": "light"
     },
     "output_type": "display_data"
    }
   ],
   "source": [
    "from sklearn.neighbors import KNeighborsClassifier\n",
    "k_list = list(range(1,20))\n",
    "k_odd = filter(lambda x:x%2!=0,k_list)\n",
    "scores = []\n",
    "for k in k_odd:\n",
    "    knn = KNeighborsClassifier(n_neighbors=k)\n",
    "    knn.fit(X_train,Y_train)\n",
    "    scores.append(knn.score(X_test,Y_test))\n",
    "error=[1-x for x in scores]\n",
    "k = np.linspace(1,19,10)\n",
    "plt.figure(figsize=(8,4))\n",
    "plt.plot(k,error)\n",
    "plt.xlabel('Number of Neighbors K')\n",
    "plt.ylabel('Test Error')\n",
    "plt.show()"
   ]
  },
  {
   "cell_type": "code",
   "execution_count": 19,
   "metadata": {},
   "outputs": [
    {
     "name": "stdout",
     "output_type": "stream",
     "text": [
      "accuracy of gaussian classifier: 0.25460886895864476\n"
     ]
    }
   ],
   "source": [
    "import math\n",
    "# Gaussian method \n",
    "\n",
    "#convert dataFrame to np Array\n",
    "X_train = X_train.values\n",
    "Y_train = Y_train.values\n",
    "X_test = X_test.values\n",
    "Y_test = Y_test.values\n",
    "\n",
    "mu_x = np.mean(X_train,axis=0).reshape((256,1))\n",
    "mu_y = np.mean(Y_train)\n",
    "cov_x = np.cov(X_train.T)\n",
    "inv_covx = np.linalg.inv(cov_x)\n",
    "cov_xy_matrix = np.cov(X_train.T,Y_train)\n",
    "cov_xy=cov_xy_matrix[256,0:256].reshape((1,256))\n",
    "pred=[]\n",
    "error_num=0\n",
    "for i in range(2007):\n",
    "    value=mu_y+np.dot(cov_xy,np.dot(inv_covx,(X_test[i,:].reshape((256,1))-mu_x)))\n",
    "    if value<0: \n",
    "        value=0\n",
    "    elif value>9: \n",
    "        value=9\n",
    "    else: \n",
    "        value = round(value.item())\n",
    "    if value!=Y_test[i]:\n",
    "        error_num=error_num+1 \n",
    "    pred.append(value)\n",
    "    \n",
    "print('accuracy of gaussian classifier:',1-(error_num/2007))"
   ]
  },
  {
   "cell_type": "code",
   "execution_count": 26,
   "metadata": {},
   "outputs": [
    {
     "name": "stdout",
     "output_type": "stream",
     "text": [
      "\n",
      "accuracy of gaussian classifier: 0.6895864474339811\n",
      "\n",
      " mean of each feature per class:\n",
      " [[-0.99770266 -0.99581627 -0.98151332 ... -0.99686255 -0.99990042\n",
      "  -1.        ]\n",
      " [-1.         -1.         -1.         ... -0.99922185 -1.\n",
      "  -1.        ]\n",
      " [-0.99292944 -0.96547932 -0.91431873 ... -0.73825547 -0.826691\n",
      "  -0.9453163 ]\n",
      " ...\n",
      " [-0.97744156 -0.8956987  -0.78992468 ... -1.         -1.\n",
      "  -1.        ]\n",
      " [-0.9988693  -0.98309119 -0.94648328 ... -0.99458055 -0.99999392\n",
      "  -1.        ]\n",
      " [-1.         -1.         -0.99807013 ... -0.99495844 -0.99822597\n",
      "  -1.        ]]\n",
      "\n",
      " variance of each feature per class:\n",
      " [[3.75775812e-03 6.00750001e-03 2.39017261e-02 ... 6.63443343e-04\n",
      "  7.06101395e-06 8.03749081e-10]\n",
      " [8.03749081e-10 8.03749081e-10 8.03749081e-10 ... 3.65123770e-04\n",
      "  8.03749081e-10 8.03749081e-10]\n",
      " [4.64172089e-03 4.26010533e-02 1.08057444e-01 ... 3.00527456e-01\n",
      "  2.04225202e-01 4.63297791e-02]\n",
      " ...\n",
      " [1.69203305e-02 1.27491666e-01 2.41021395e-01 ... 8.03749081e-10\n",
      "  8.03749081e-10 8.03749081e-10]\n",
      " [2.50910773e-04 2.05236885e-02 6.25485909e-02 ... 4.70044492e-03\n",
      "  1.29248492e-08 8.03749081e-10]\n",
      " [8.03749081e-10 8.03749081e-10 8.34034847e-04 ... 9.64996271e-03\n",
      "  1.20851338e-03 8.03749081e-10]] \n",
      "shape: (10, 256)\n",
      "\n",
      "accuracy of gaussian classifier: 0.6895864474339811\n",
      "accuracy of cross validation for gaussian classifier: 0.7177926886214339\n",
      "\n",
      "covariance:\n",
      " [[ 2.51692683e-03  2.61902391e-03  2.60213734e-03 ... -5.65867400e-06\n",
      "  -1.09653040e-07  0.00000000e+00]\n",
      " [ 2.61902391e-03  7.40403330e-03  8.20625903e-03 ... -1.89831585e-05\n",
      "  -3.67853148e-07  0.00000000e+00]\n",
      " [ 2.60213734e-03  8.20625903e-03  2.18388111e-02 ... -5.94160769e-05\n",
      "  -1.15135692e-06  0.00000000e+00]\n",
      " ...\n",
      " [-5.65867400e-06 -1.89831585e-05 -5.94160769e-05 ...  1.94443782e-03\n",
      "   2.13928476e-05  0.00000000e+00]\n",
      " [-1.09653040e-07 -3.67853148e-07 -1.15135692e-06 ...  2.13928476e-05\n",
      "   4.75171982e-06  0.00000000e+00]\n",
      " [ 0.00000000e+00  0.00000000e+00  0.00000000e+00 ...  0.00000000e+00\n",
      "   0.00000000e+00  0.00000000e+00]] \n",
      "shape: (256, 256)\n"
     ]
    }
   ],
   "source": [
    "# Naive Bayes Gaussian method\n",
    "from sklearn.model_selection import cross_val_score\n",
    "from sklearn import naive_bayes\n",
    "from sklearn.model_selection import train_test_split\n",
    "\n",
    "gauss = naive_bayes.GaussianNB()\n",
    "gauss.fit(X_train,Y_train)\n",
    "Y_pred=gauss.predict(X_test)\n",
    "print('\\naccuracy of gaussian classifier:',gauss.score(X_test,Y_test))\n",
    "print('\\n mean of each feature per class:\\n',gauss.theta_ )\n",
    "print('\\n variance of each feature per class:\\n',gauss.sigma_,'\\nshape:',gauss.sigma_.shape)\n",
    "print('\\naccuracy of gaussian classifier:',gauss.score(X_test,Y_test))\n",
    "\n",
    "# using 10 fold cross validation\n",
    "scores=cross_val_score(gauss, X_train, Y_train,cv=10,scoring='accuracy')\n",
    "print('accuracy of cross validation for gaussian classifier:',np.mean(scores))\n",
    "\n",
    "X_train, X_valid, Y_train, Y_valid = train_test_split(X_train,Y_train, test_size=0.1)\n",
    "\n",
    "def get_examples_for_class(class_id):\n",
    "    examples = []\n",
    "    for i, example in enumerate(X_train):\n",
    "        if Y_train[i]==class_id:\n",
    "            examples.append(example)\n",
    "        \n",
    "    examples = np.matrix(examples)\n",
    "    return examples\n",
    "\n",
    "mean = np.array(examples.mean(0))[0]\n",
    "cov = np.cov(examples.T)\n",
    "print('\\ncovariance:\\n',cov,'\\nshape:',cov.shape)\n"
   ]
  }
 ],
 "metadata": {
  "kernelspec": {
   "display_name": "Python 3",
   "language": "python",
   "name": "python3"
  },
  "language_info": {
   "codemirror_mode": {
    "name": "ipython",
    "version": 3
   },
   "file_extension": ".py",
   "mimetype": "text/x-python",
   "name": "python",
   "nbconvert_exporter": "python",
   "pygments_lexer": "ipython3",
   "version": "3.7.0"
  }
 },
 "nbformat": 4,
 "nbformat_minor": 2
}
