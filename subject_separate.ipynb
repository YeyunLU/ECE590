{
 "cells": [
  {
   "cell_type": "code",
   "execution_count": 8,
   "metadata": {},
   "outputs": [],
   "source": [
    "import numpy as np\n",
    "import scipy.io as io\n",
    "from random import randint\n",
    "from scipy.io import loadmat\n",
    "from sklearn import preprocessing\n",
    "from sklearn.model_selection import train_test_split"
   ]
  },
  {
   "cell_type": "code",
   "execution_count": 9,
   "metadata": {},
   "outputs": [],
   "source": [
    "def load_data(filename):\n",
    "    print('load data...') \n",
    "    data = loadmat(filename)\n",
    "    X = data['data']\n",
    "    Y = data['info'][0]\n",
    "    X_train = np.zeros((len(X),X[0,0].shape[1]))\n",
    "    for i in range(len(X)):\n",
    "        X_train[i,:]=X[i,0] \n",
    "        \n",
    "    # build word-id dictionary\n",
    "    with open('dictionary.txt') as f:\n",
    "        words = [l.strip() for l in f if l.strip()]\n",
    "    Y_train = np.zeros((360,2))\n",
    "    \n",
    "    # preprocess Y train\n",
    "    for i in range(360):\n",
    "        Y_train[i,0] = words.index(Y[i]['word'][0])+1 # get the word id from the dictionary\n",
    "        Y_train[i,1] = randint(1, 60)\n",
    "        \n",
    "    return X_train,Y_train,data"
   ]
  },
  {
   "cell_type": "code",
   "execution_count": 10,
   "metadata": {
    "scrolled": false
   },
   "outputs": [
    {
     "name": "stdout",
     "output_type": "stream",
     "text": [
      "load data...\n",
      "shape of X train: (300, 300)\n",
      "shape of X test: (60, 300)\n",
      "shape of Y train: (300, 218)\n",
      "shape of Y test: (60, 218)\n"
     ]
    }
   ],
   "source": [
    "Yp = 218\n",
    "ntrain = 300\n",
    "ntest = 60\n",
    "X,wid,data = load_data('data-science-P9.mat')\n",
    "\n",
    "from sklearn.decomposition import PCA\n",
    "pca = PCA(n_components=300)\n",
    "X = pca.fit_transform(X)\n",
    "\n",
    "dimx = data['meta'][0]['dimx'][0][0][0]\n",
    "dimy = data['meta'][0]['dimy'][0][0][0]\n",
    "dimz = data['meta'][0]['dimz'][0][0][0]\n",
    "visual = np.zeros((dimx,dimy,dimz))\n",
    "\n",
    "for i in range(X.shape[1]):\n",
    "    [x,y,z] = data['meta'][0]['colToCoord'][0][i]\n",
    "    visual[x,y,z]=abs(X[0,i])*255\n",
    "\n",
    "word_feature=io.mmread('word_feature_centered.mtx')\n",
    "\n",
    "X_train,X_test,wid_train,wid_test = train_test_split(X,wid,test_size=1/6,random_state=42)\n",
    "\n",
    "# separate data set\n",
    "X_train = preprocessing.scale(X_train)\n",
    "X_test = preprocessing.scale(X_test)\n",
    "\n",
    "# from word id to Y_train (300,1) and Y_test (60,2)\n",
    "Y_train = np.zeros((ntrain,Yp))\n",
    "Y_test = np.zeros((ntest,Yp))\n",
    "Y2_test = np.zeros((ntest,Yp))\n",
    "for i in range(ntrain):\n",
    "    for j in range(Yp):\n",
    "        Y_train[i][j]=word_feature[int(wid_train[i,0])-1][j]\n",
    "for i in range(ntest):\n",
    "    for j in range(Yp):\n",
    "        Y_test[i][j]=word_feature[int(wid_test[i,0])-1][j]\n",
    "        Y2_test[i][j]=word_feature[int(wid_test[i,1])-1][j]\n",
    "\n",
    "print('shape of X train:',X_train.shape)\n",
    "print('shape of X test:',X_test.shape)\n",
    "print('shape of Y train:',Y_train.shape)\n",
    "print('shape of Y test:',Y_test.shape)"
   ]
  },
  {
   "cell_type": "markdown",
   "metadata": {},
   "source": [
    "visualize part of the activation data"
   ]
  },
  {
   "cell_type": "code",
   "execution_count": 98,
   "metadata": {
    "scrolled": false
   },
   "outputs": [
    {
     "data": {
      "image/png": "[encoded data removed]",
      "text/plain": [
       "<Figure size 576x576 with 1 Axes>"
      ]
     },
     "metadata": {
      "needs_background": "light"
     },
     "output_type": "display_data"
    }
   ],
   "source": [
    "%matplotlib inline\n",
    "import matplotlib.pyplot as plt\n",
    "plt.figure(figsize=(8,8))\n",
    "for i in range(20):\n",
    "    plt.imshow(visual[:,:,i])\n",
    "plt.title('image for brain activation of P9')\n",
    "plt.show()"
   ]
  },
  {
   "cell_type": "code",
   "execution_count": 11,
   "metadata": {},
   "outputs": [],
   "source": [
    "class LassoShooting:\n",
    "    def __init__(self, X, Y, lamda):\n",
    "        self.X = X\n",
    "        self.Y = Y\n",
    "        self.n = X.shape[0]\n",
    "        self.p = X.shape[1]\n",
    "        self.lamda = lamda\n",
    "        self.w = np.zeros(self.p)\n",
    " \n",
    "    def shoot(self):\n",
    "        stop=False\n",
    "        X = self.X\n",
    "        w = self.w\n",
    "        t=0\n",
    "        epsilon=1e-4\n",
    "        max_iter=20\n",
    "        while not stop and t<max_iter:\n",
    "            w_pre = w.copy()\n",
    "            for j in range(self.p):\n",
    "                #j = randint(0,self.p-1)\n",
    "                w_nonj = np.delete(w,j)\n",
    "                X_nonj = np.delete(X,j,1)  # delete k_th column\n",
    "                w_j = w[j]*np.ones((self.n,1))\n",
    "                r_j = X_nonj.dot(w_nonj)-self.Y\n",
    "                c_j = np.sum(np.multiply(X[:,j],r_j))\n",
    "                a_j = np.sum(X[:,j]**2)\n",
    "                if c_j > self.lamda:\n",
    "                    w[j] = (-c_j+self.lamda)/a_j\n",
    "                elif c_j < (-self.lamda):\n",
    "                    w[j] = (-c_j-self.lamda)/a_j\n",
    "                else:\n",
    "                    w[j] = 0  \n",
    "            if max(abs(w-w_pre))<=epsilon:\n",
    "                stop=True\n",
    "            t+=1    \n",
    "        self.w =w         \n",
    "    \n",
    "    def predict(self,X,w):\n",
    "        return X.dot(w)"
   ]
  },
  {
   "cell_type": "code",
   "execution_count": 12,
   "metadata": {},
   "outputs": [],
   "source": [
    "def L1(pred,y_true,y_wrong):\n",
    "    score = 0\n",
    "    for i in range(len(pred)):\n",
    "        d1 = np.sum(np.abs(pred[i]-y_true[i]))\n",
    "        d2 = np.sum(np.abs(pred[i]-y_wrong[i]))\n",
    "        if d1<d2:\n",
    "            score+=1\n",
    "        elif d1==d2:\n",
    "            score+=0.5\n",
    "    return score\n",
    "    \n",
    "def L2(pred,y_true,y_wrong):\n",
    "    score = 0\n",
    "    for i in range(len(pred)):\n",
    "        d1 = np.sum((pred[i]-y_true[i])**2)\n",
    "        d2 = np.sum((pred[i]-y_wrong[i])**2)\n",
    "        if d1<d2:\n",
    "            score+=1\n",
    "        elif d1==d2:\n",
    "            score+=0.5\n",
    "    return score"
   ]
  },
  {
   "cell_type": "markdown",
   "metadata": {},
   "source": [
    "train the model"
   ]
  },
  {
   "cell_type": "code",
   "execution_count": 13,
   "metadata": {},
   "outputs": [],
   "source": [
    "weight = np.zeros((X_train.shape[1],Y_train.shape[1]))\n",
    "for j in range(Yp):\n",
    "    # print(j)\n",
    "    ls = LassoShooting(X_train,Y_train[:,j],0.15)\n",
    "    ls.shoot()\n",
    "    weight[:,j]=ls.w\n",
    "y_hat = ls.predict(X_test,weight)"
   ]
  },
  {
   "cell_type": "markdown",
   "metadata": {},
   "source": [
    "print test results"
   ]
  },
  {
   "cell_type": "code",
   "execution_count": 14,
   "metadata": {},
   "outputs": [
    {
     "name": "stdout",
     "output_type": "stream",
     "text": [
      "---------The 9th Person--------\n",
      "Accuracy for L1: 0.7416666666666667\n",
      "Accuracy for L2: 0.725\n"
     ]
    }
   ],
   "source": [
    "print('---------The 9th Person--------')\n",
    "print('Accuracy for L1:',L1(y_hat,Y_test,Y2_test)/len(Y_test))\n",
    "print('Accuracy for L2:',L2(y_hat,Y_test,Y2_test)/len(Y_test))"
   ]
  }
 ],
 "metadata": {
  "kernelspec": {
   "display_name": "Python 3",
   "language": "python",
   "name": "python3"
  },
  "language_info": {
   "codemirror_mode": {
    "name": "ipython",
    "version": 3
   },
   "file_extension": ".py",
   "mimetype": "text/x-python",
   "name": "python",
   "nbconvert_exporter": "python",
   "pygments_lexer": "ipython3",
   "version": "3.7.0"
  }
 },
 "nbformat": 4,
 "nbformat_minor": 2
}
