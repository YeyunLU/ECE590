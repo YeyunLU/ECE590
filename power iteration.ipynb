{
 "cells": [
  {
   "cell_type": "markdown",
   "metadata": {
    "colab_type": "text",
    "id": "spNmcfJerqyo"
   },
   "source": [
    "produce data"
   ]
  },
  {
   "cell_type": "code",
   "execution_count": 132,
   "metadata": {
    "colab": {},
    "colab_type": "code",
    "id": "4Xcqhlrwrqyx",
    "outputId": "f2fb1e3d-deb3-4c99-d82c-6a60a411f792"
   },
   "outputs": [],
   "source": [
    "import numpy as np\n",
    "n = 10 # 10 samples\n",
    "m = 8  # 8 features\n",
    "K = 6  # 6 principal features\n",
    "X=np.random.rand(n,m)\n",
    "C = X.T.dot(X)/n #covariance"
   ]
  },
  {
   "cell_type": "markdown",
   "metadata": {},
   "source": [
    "power iteration method"
   ]
  },
  {
   "cell_type": "code",
   "execution_count": 133,
   "metadata": {},
   "outputs": [],
   "source": [
    "def power_iteration(C):\n",
    "    ev = np.random.rand(k+1,m) #eigen vector\n",
    "    value = np.random.rand(k+1,1) #eigen value \n",
    "    for j in range(1,k+1):\n",
    "        ev[j,:]=C.dot(ev[j-1,:])/np.linalg.norm(C.dot(ev[j-1,:]))\n",
    "        value[j]=ev[j,:].T.dot(C).dot(ev[j,:])\n",
    "    return ev[k,:],value[k]"
   ]
  },
  {
   "cell_type": "markdown",
   "metadata": {
    "colab_type": "text",
    "id": "O8q8oKy5rqzV"
   },
   "source": [
    "sort the eigen vectors using eigen values"
   ]
  },
  {
   "cell_type": "code",
   "execution_count": 134,
   "metadata": {
    "colab": {},
    "colab_type": "code",
    "id": "9_CKcMvSrqze"
   },
   "outputs": [],
   "source": [
    "def eigen(A):\n",
    "    eigenValues, eigenVectors = np.linalg.eig(A)\n",
    "    idx = np.argsort(eigenValues)[::-1][:K]\n",
    "    eigenValues = eigenValues[idx]\n",
    "    eigenVectors = eigenVectors[:,idx]\n",
    "    return (eigenValues, np.abs(eigenVectors))"
   ]
  },
  {
   "cell_type": "code",
   "execution_count": 135,
   "metadata": {
    "colab": {},
    "colab_type": "code",
    "id": "c3UZ1DAGrqzv",
    "outputId": "4cb8cea6-04f6-400c-b8cb-30f1aca12ccd"
   },
   "outputs": [
    {
     "name": "stdout",
     "output_type": "stream",
     "text": [
      "eigen vector of power iteration:\n",
      "\n",
      " [0.3509208  0.20692545 0.37223282 0.39268898 0.45228703 0.38673417\n",
      " 0.27821748 0.33127435] \n",
      "\n",
      "true eigen vector:\n",
      "\n",
      " [0.3509208  0.20692545 0.37223282 0.39268898 0.45228703 0.38673417\n",
      " 0.27821748 0.33127435]\n"
     ]
    }
   ],
   "source": [
    "ev,value = power_iteration(C)\n",
    "print('eigen vector of power iteration:\\n\\n',ev,'\\n')\n",
    "e_value, e_vector = eigen(C)\n",
    "print('true eigen vector:\\n\\n',e_vector[:,0])"
   ]
  },
  {
   "cell_type": "code",
   "execution_count": 141,
   "metadata": {},
   "outputs": [
    {
     "name": "stdout",
     "output_type": "stream",
     "text": [
      "\n",
      " eigen vector from power iteration:\n",
      " [[0.3509208  0.24590779 0.68306332 0.27721421 0.05149003 0.1011549 ]\n",
      " [0.20692545 0.22444449 0.3500567  0.14344778 0.56098041 0.5590234 ]\n",
      " [0.37223282 0.04180991 0.25573064 0.39986935 0.50279693 0.48509078]\n",
      " [0.39268898 0.64726301 0.4288212  0.01001249 0.4676073  0.03207827]\n",
      " [0.45228703 0.23156359 0.01672422 0.34454471 0.0965951  0.65334739]\n",
      " [0.38673417 0.04259729 0.12350647 0.69092948 0.30879901 0.11766624]\n",
      " [0.27821748 0.08189117 0.27987409 0.33744697 0.27555701 0.01335739]\n",
      " [0.33127435 0.63742778 0.26026134 0.18059406 0.17484083 0.00564486]]\n",
      "\n",
      " true eigen vector:\n",
      "  [[0.3509208  0.22219026 0.69555573 0.27087947 0.02002863 0.10533857]\n",
      " [0.20692545 0.23551912 0.34121114 0.17316057 0.37857279 0.70723898]\n",
      " [0.37223282 0.05165286 0.26349486 0.3732189  0.62136896 0.31308131]\n",
      " [0.39268898 0.66080428 0.3974936  0.00161589 0.46229542 0.10728365]\n",
      " [0.45228703 0.23106364 0.00697906 0.35009158 0.24136524 0.60836445]\n",
      " [0.38673417 0.04036017 0.12139421 0.70497964 0.28632237 0.03077922]\n",
      " [0.27821748 0.07357521 0.27765097 0.32830861 0.28837162 0.07566347]\n",
      " [0.33127435 0.62880781 0.28367438 0.17319879 0.18184936 0.04906622]]\n",
      "\n",
      " eigen value:\n",
      " [[2.20221757]\n",
      " [0.13766007]\n",
      " [0.10924965]\n",
      " [0.07513969]\n",
      " [0.05995227]\n",
      " [0.05195822]]\n"
     ]
    }
   ],
   "source": [
    "eigen_value=[]\n",
    "eigen_vector = np.zeros((m,K))\n",
    "v_vT = np.zeros((m,m))\n",
    "C = X.T.dot(X)/n #covariance\n",
    "for i in range(K):\n",
    "    eigen_vec, eigen_val = power_iteration(C)\n",
    "    eigen_value.append(eigen_val)\n",
    "    eigen_vector[:,i] = eigen_vec\n",
    "\n",
    "    for i in range(m):\n",
    "        for j in range(m):\n",
    "            v_vT[i,j]=eigen_vec[i]*eigen_vec[j]\n",
    "    \n",
    "    C -= eigen_val*v_vT\n",
    "\n",
    "print('\\n eigen vector from power iteration:\\n',np.abs(eigen_vector))\n",
    "print('\\n true eigen vector:\\n ',e_vector)\n",
    "print('\\n eigen value:\\n',np.array(eigen_value))"
   ]
  }
 ],
 "metadata": {
  "colab": {
   "name": "HW4-1.ipynb",
   "provenance": [],
   "version": "0.3.2"
  },
  "kernelspec": {
   "display_name": "Python 3",
   "language": "python",
   "name": "python3"
  },
  "language_info": {
   "codemirror_mode": {
    "name": "ipython",
    "version": 3
   },
   "file_extension": ".py",
   "mimetype": "text/x-python",
   "name": "python",
   "nbconvert_exporter": "python",
   "pygments_lexer": "ipython3",
   "version": "3.7.0"
  }
 },
 "nbformat": 4,
 "nbformat_minor": 1
}
