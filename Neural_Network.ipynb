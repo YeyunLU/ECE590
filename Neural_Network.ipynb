{
 "cells": [
  {
   "cell_type": "code",
   "execution_count": 2,
   "metadata": {
    "colab": {},
    "colab_type": "code",
    "id": "XFsww3YByokV"
   },
   "outputs": [],
   "source": [
    "import numpy as np\n",
    "import math\n",
    "import matplotlib.pyplot as plt"
   ]
  },
  {
   "cell_type": "code",
   "execution_count": 3,
   "metadata": {
    "colab": {},
    "colab_type": "code",
    "id": "5ha0fqv2yuOA"
   },
   "outputs": [],
   "source": [
    "def generate(num):\n",
    "    index = 0\n",
    "    freq = np.zeros((4,1))\n",
    "    x1 = np.random.uniform(-1,1,num)\n",
    "    x2 = np.random.uniform(-1,1,num)\n",
    "    y = np.zeros((num,1))\n",
    "    X = np.zeros((num,2))\n",
    "    for i in range(num):\n",
    "        if (abs(x1[i])+abs(x2[i])<0.7) and (abs(x1[i])+abs(x2[i])>0.4):\n",
    "            y[index]=0\n",
    "            freq[0]+=1\n",
    "            X[index,0]=x1[i]\n",
    "            X[index,1]=x2[i]\n",
    "        elif (math.sqrt(x1[i]**2+x2[i]**2))<0.3:\n",
    "            y[index]=1\n",
    "            freq[1]+=1\n",
    "            X[index,0]=x1[i]\n",
    "            X[index,1]=x2[i]\n",
    "        elif math.sin(10*x2[i])<0:\n",
    "            y[index]=2\n",
    "            freq[2]+=1\n",
    "            X[index,0]=x1[i]\n",
    "            X[index,1]=x2[i]         \n",
    "        elif math.sin(5*x1[i])>0:\n",
    "            y[index]=3\n",
    "            freq[3]+=1\n",
    "            X[index,0]=x1[i]\n",
    "            X[index,1]=x2[i]\n",
    "        index+=1  \n",
    "\n",
    "    y=y[:index]\n",
    "    X=X[:index,:]\n",
    "            \n",
    "    return X,y,freq\n",
    "        "
   ]
  },
  {
   "cell_type": "code",
   "execution_count": 4,
   "metadata": {
    "colab": {
     "base_uri": "https://localhost:8080/",
     "height": 102
    },
    "colab_type": "code",
    "executionInfo": {
     "elapsed": 406,
     "status": "ok",
     "timestamp": 1550470997941,
     "user": {
      "displayName": "Yeyun Lu",
      "photoUrl": "",
      "userId": "17002007059519809476"
     },
     "user_tz": 480
    },
    "id": "-fdOrdAtzmG5",
    "outputId": "264299a8-ed5d-47a0-97ff-6a2b1cfba349"
   },
   "outputs": [
    {
     "name": "stdout",
     "output_type": "stream",
     "text": [
      "frequency of each class in the training data:\n",
      "\n",
      " [[0.158]\n",
      " [0.074]\n",
      " [0.38 ]\n",
      " [0.2  ]]\n"
     ]
    }
   ],
   "source": [
    "X_train,y_train,freq = generate(500)\n",
    "print(\"frequency of each class in the training data:\\n\\n\",freq/len(y_train))\n",
    "X_valid,y_valid,freq=generate(500)\n",
    "#print(freq/len(y_valid))\n",
    "X_test,y_test,freq=generate(1000)\n",
    "#print(freq/len(y_test))"
   ]
  },
  {
   "cell_type": "markdown",
   "metadata": {},
   "source": [
    "encode y label"
   ]
  },
  {
   "cell_type": "code",
   "execution_count": 5,
   "metadata": {
    "colab": {},
    "colab_type": "code",
    "id": "p0O4nWob1Mw4"
   },
   "outputs": [],
   "source": [
    "def one_hot_label(y):\n",
    "    n = len(y)\n",
    "    one_hot_y = np.zeros((n,4))\n",
    "    for i in range(n):\n",
    "        one_hot_y[i, int(y[i])] = 1\n",
    "    return one_hot_y"
   ]
  },
  {
   "cell_type": "markdown",
   "metadata": {
    "colab_type": "text",
    "id": "IPTQ8gMe2AQ7"
   },
   "source": [
    "activation functions"
   ]
  },
  {
   "cell_type": "code",
   "execution_count": 6,
   "metadata": {
    "colab": {},
    "colab_type": "code",
    "id": "ftsv21Vy1iRE"
   },
   "outputs": [],
   "source": [
    "def tanh(x):\n",
    "    return np.tanh(x)\n",
    "\n",
    "def tanh_derivative(x):\n",
    "    return 1.0 - np.square(x)\n",
    "\n",
    "def softmax(A):  \n",
    "    expA = np.exp(A)\n",
    "    return expA / expA.sum(axis=1, keepdims=True)\n"
   ]
  },
  {
   "cell_type": "markdown",
   "metadata": {
    "colab_type": "text",
    "id": "a6Dv5mZG19ao"
   },
   "source": [
    "neural network"
   ]
  },
  {
   "cell_type": "code",
   "execution_count": 7,
   "metadata": {
    "colab": {},
    "colab_type": "code",
    "id": "r5KmVQ5M1o_3"
   },
   "outputs": [],
   "source": [
    "class NeuralNetwork:\n",
    "    def __init__(self, x, y,size):\n",
    "        self.input      = x\n",
    "        self.weights1   =  np.random.rand(self.input.shape[1],size)\n",
    "        self.weights2   =  np.random.rand(size,4) \n",
    "        self.b1   = np.zeros((1,size)) \n",
    "        self.b2   = np.zeros((1,4))\n",
    "        self.y          = y\n",
    "        self.output     = np.zeros(self.y.shape)\n",
    "        self.n          = len(x)\n",
    "\n",
    "    def feedforward(self):\n",
    "        self.layer1 = tanh(np.dot(self.input, self.weights1)+self.b1)\n",
    "        self.output = softmax(np.dot(self.layer1, self.weights2)+self.b2) # n*4\n",
    "\n",
    "    def backprop(self,lr,reg):\n",
    "        # application of the chain rule to find derivative of the loss function with respect to weights2 and weights1\n",
    "        delta3 = self.output-self.y\n",
    "        delta2 = tanh_derivative(self.layer1)*np.dot(delta3, self.weights2.T)\n",
    "        d_weights2 = np.dot(self.layer1.T, delta3)+reg*self.weights2\n",
    "        d_b2 = np.sum(delta3, axis=0, keepdims=True)\n",
    "        d_weights1 = np.dot(self.input.T, delta2)+reg*self.weights1\n",
    "        d_b1 = np.sum(delta2, axis=0)\n",
    "\n",
    "        # update the weights with the derivative (slope) of the loss function\n",
    "        self.weights1 -= lr * d_weights1\n",
    "        self.b1 -= lr * d_b1\n",
    "        self.weights2 -= lr * d_weights2\n",
    "        self.b2 -= lr * d_b2\n",
    "    \n",
    "    def train(self,iteration,lr,reg):\n",
    "        for i in range(iteration):\n",
    "            nn.feedforward()\n",
    "            nn.backprop(lr,reg)\n",
    "    \n",
    "    def predict(self,x):\n",
    "        layer1 = tanh(np.dot(x, self.weights1)+self.b1)\n",
    "        output = softmax(np.dot(layer1, self.weights2)+self.b2)\n",
    "        predict = np.argmax(output, axis=1)\n",
    "        return predict\n",
    "    \n",
    "    def accuracy(self,predict,y):\n",
    "        count = 0\n",
    "        for i in range(len(y)):\n",
    "            if predict[i]==y[i]:\n",
    "                count+=1\n",
    "        return count/len(y)"
   ]
  },
  {
   "cell_type": "markdown",
   "metadata": {
    "colab_type": "text",
    "id": "I-IUQDkE11X7"
   },
   "source": [
    "one hot encode label"
   ]
  },
  {
   "cell_type": "code",
   "execution_count": 8,
   "metadata": {
    "colab": {},
    "colab_type": "code",
    "id": "tRQYJLS71zAT"
   },
   "outputs": [],
   "source": [
    "y_train=one_hot_label(y_train)"
   ]
  },
  {
   "cell_type": "markdown",
   "metadata": {
    "colab_type": "text",
    "id": "vET-MSwq2SPC"
   },
   "source": [
    "train and chose parameters"
   ]
  },
  {
   "cell_type": "markdown",
   "metadata": {},
   "source": [
    "choose size of hidden layer"
   ]
  },
  {
   "cell_type": "code",
   "execution_count": 17,
   "metadata": {
    "colab": {},
    "colab_type": "code",
    "id": "z3MzKELkBbIU"
   },
   "outputs": [
    {
     "name": "stdout",
     "output_type": "stream",
     "text": [
      "size: 10 accuracy: 0.816\n",
      "size: 20 accuracy: 0.882\n",
      "size: 50 accuracy: 0.916\n",
      "size: 100 accuracy: 0.918\n",
      "size: 200 accuracy: 0.912\n"
     ]
    }
   ],
   "source": [
    "size = [10,20,50,100,200]\n",
    "for i in range(5):\n",
    "    nn = NeuralNetwork(X_train,y_train,size=size[i])\n",
    "    nn.train(iteration=10000,lr=1e-3,reg=0.1)\n",
    "    predict = nn.predict(X_valid)\n",
    "    acc = nn.accuracy(predict,y_valid)\n",
    "    print('size:',size[i],'accuracy:',acc)"
   ]
  },
  {
   "cell_type": "markdown",
   "metadata": {},
   "source": [
    "choose learning rate:"
   ]
  },
  {
   "cell_type": "code",
   "execution_count": 18,
   "metadata": {
    "colab": {
     "base_uri": "https://localhost:8080/",
     "height": 34
    },
    "colab_type": "code",
    "executionInfo": {
     "elapsed": 5694,
     "status": "ok",
     "timestamp": 1550471019199,
     "user": {
      "displayName": "Yeyun Lu",
      "photoUrl": "",
      "userId": "17002007059519809476"
     },
     "user_tz": 480
    },
    "id": "3DjHRWGP2Q8n",
    "outputId": "e0ea93eb-b4a7-4d06-ee10-14f4ac05bc75"
   },
   "outputs": [
    {
     "name": "stdout",
     "output_type": "stream",
     "text": [
      "learning rate: 5e-05 accuracy: 0.758\n",
      "learning rate: 0.0001 accuracy: 0.772\n",
      "learning rate: 0.0005 accuracy: 0.878\n",
      "learning rate: 0.001 accuracy: 0.9\n",
      "learning rate: 0.005 accuracy: 0.864\n"
     ]
    }
   ],
   "source": [
    "lr = [5e-5,1e-4,5e-4,1e-3,5e-3]\n",
    "for i in range(5):\n",
    "    nn = NeuralNetwork(X_train,y_train,size=100)\n",
    "    nn.train(iteration=10000,lr=lr[i],reg=0.1)\n",
    "    predict = nn.predict(X_valid)\n",
    "    acc = nn.accuracy(predict,y_valid)\n",
    "    print('learning rate:',lr[i],'accuracy:',acc)"
   ]
  },
  {
   "cell_type": "markdown",
   "metadata": {},
   "source": [
    "choose learning rate:"
   ]
  },
  {
   "cell_type": "code",
   "execution_count": 21,
   "metadata": {},
   "outputs": [
    {
     "name": "stdout",
     "output_type": "stream",
     "text": [
      "regularization para: 0.001 accuracy: 0.932\n",
      "regularization para: 0.005 accuracy: 0.92\n",
      "regularization para: 0.01 accuracy: 0.938\n",
      "regularization para: 0.05 accuracy: 0.934\n",
      "regularization para: 0.1 accuracy: 0.908\n"
     ]
    }
   ],
   "source": [
    "reg = [1e-3,5e-3,1e-2,5e-2,1e-1]\n",
    "for i in range(5):\n",
    "    nn = NeuralNetwork(X_train,y_train,size=100)\n",
    "    nn.train(iteration=10000,lr=1e-3,reg=reg[i])\n",
    "    predict = nn.predict(X_valid)\n",
    "    acc = nn.accuracy(predict,y_valid)\n",
    "    print('regularization para:',reg[i],'accuracy:',acc)"
   ]
  },
  {
   "cell_type": "markdown",
   "metadata": {},
   "source": [
    "choose the model with size of hidden layer = 100, learning rate = 0.001 and regularization parameter = 0.01"
   ]
  },
  {
   "cell_type": "code",
   "execution_count": 23,
   "metadata": {},
   "outputs": [
    {
     "name": "stdout",
     "output_type": "stream",
     "text": [
      "accuracy: 0.932\n"
     ]
    }
   ],
   "source": [
    "nn = NeuralNetwork(X_train,y_train,size=100)\n",
    "nn.train(iteration=10000,lr=1e-3,reg=0.01)\n",
    "predict = nn.predict(X_valid)\n",
    "acc = nn.accuracy(predict,y_valid)\n",
    "print('accuracy:',acc)"
   ]
  },
  {
   "cell_type": "markdown",
   "metadata": {},
   "source": [
    "Because the initial value of weights would be random, the accuracy of the neural network maybe little different every time run it."
   ]
  },
  {
   "cell_type": "markdown",
   "metadata": {
    "colab_type": "text",
    "id": "1edB99Oc6Py7"
   },
   "source": [
    "test data"
   ]
  },
  {
   "cell_type": "code",
   "execution_count": 27,
   "metadata": {
    "colab": {
     "base_uri": "https://localhost:8080/",
     "height": 34
    },
    "colab_type": "code",
    "executionInfo": {
     "elapsed": 410,
     "status": "ok",
     "timestamp": 1550471022196,
     "user": {
      "displayName": "Yeyun Lu",
      "photoUrl": "",
      "userId": "17002007059519809476"
     },
     "user_tz": 480
    },
    "id": "XjB4Dbzu6Sal",
    "outputId": "6a34a4e2-0fd8-4a2e-dd5c-438dc12b3182"
   },
   "outputs": [
    {
     "name": "stdout",
     "output_type": "stream",
     "text": [
      "accuracy on test data:\n",
      "\n",
      " 0.923\n"
     ]
    }
   ],
   "source": [
    "predict = nn.predict(X_test)\n",
    "acc = nn.accuracy(predict,y_test)\n",
    "print('accuracy on test data:\\n\\n',acc)"
   ]
  },
  {
   "cell_type": "markdown",
   "metadata": {
    "colab_type": "text",
    "id": "sXw40S8S6zF2"
   },
   "source": [
    "labels plot"
   ]
  },
  {
   "cell_type": "code",
   "execution_count": 33,
   "metadata": {
    "colab": {
     "base_uri": "https://localhost:8080/",
     "height": 776
    },
    "colab_type": "code",
    "executionInfo": {
     "elapsed": 1117,
     "status": "ok",
     "timestamp": 1550471025095,
     "user": {
      "displayName": "Yeyun Lu",
      "photoUrl": "",
      "userId": "17002007059519809476"
     },
     "user_tz": 480
    },
    "id": "o60DyEzc6yHe",
    "outputId": "e6210a3f-1775-496e-c8e7-84fff5b5cd94"
   },
   "outputs": [
    {
     "data": {
      "image/png": "[encoded data removed]",
      "text/plain": [
       "<Figure size 1080x504 with 2 Axes>"
      ]
     },
     "metadata": {
      "needs_background": "light"
     },
     "output_type": "display_data"
    }
   ],
   "source": [
    "import matplotlib.pyplot as plt\n",
    "n = len(y_test)\n",
    "fig, axs = plt.subplots(1,2,figsize=(15, 7))\n",
    "for i in range(n):\n",
    "    if y_test[i]==0:\n",
    "        color = 'b'\n",
    "    elif y_test[i]==1:\n",
    "        color = 'g'\n",
    "    elif y_test[i]==2:\n",
    "        color = 'r'\n",
    "    else:\n",
    "        color = 'y'\n",
    "    axs[0].scatter(X_test[i,0],X_test[i,1], c=color)\n",
    "axs[0].set_xlabel('sample')\n",
    "axs[0].set_ylabel('true label')\n",
    "axs[0].grid()\n",
    "#choose 100 points to plot\n",
    "for i in range(n):\n",
    "    if predict[i]==0:\n",
    "        color = 'b'\n",
    "    elif predict[i]==1:\n",
    "        color = 'g'\n",
    "    elif predict[i]==2:\n",
    "        color = 'r'\n",
    "    else:\n",
    "        color = 'y'\n",
    "    axs[1].scatter(X_test[i,0],X_test[i,1], c=color)\n",
    "axs[1].set_xlabel('sample')\n",
    "axs[1].set_ylabel('predict label')\n",
    "axs[1].grid()\n",
    "plt.show()"
   ]
  },
  {
   "cell_type": "markdown",
   "metadata": {},
   "source": [
    "                                    where blue: label 0, green: label 1, red: label 2, yellow: label 3 \n",
    "\n",
    "\n",
    "Conclusion:\n",
    "\n",
    "These two pictures are quite similar. It is clear that the neural network classifier is non-linear. The green points (label 1) are with the lowest frequency, it is more likely to classify something wrong related to green points (label 1). "
   ]
  }
 ],
 "metadata": {
  "colab": {
   "collapsed_sections": [],
   "name": "Neural_Network.ipynb",
   "provenance": [],
   "version": "0.3.2"
  },
  "kernelspec": {
   "display_name": "Python 3",
   "language": "python",
   "name": "python3"
  },
  "language_info": {
   "codemirror_mode": {
    "name": "ipython",
    "version": 3
   },
   "file_extension": ".py",
   "mimetype": "text/x-python",
   "name": "python",
   "nbconvert_exporter": "python",
   "pygments_lexer": "ipython3",
   "version": "3.7.0"
  }
 },
 "nbformat": 4,
 "nbformat_minor": 1
}
